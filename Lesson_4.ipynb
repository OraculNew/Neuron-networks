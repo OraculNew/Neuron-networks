{
  "cells": [
    {
      "cell_type": "markdown",
      "id": "041745fe",
      "metadata": {
        "id": "041745fe"
      },
      "source": [
        "# Практическое задание к уроку 4. Сверточные нейронные сети"
      ]
    },
    {
      "cell_type": "markdown",
      "id": "d8111a62",
      "metadata": {
        "id": "d8111a62"
      },
      "source": [
        "### Практическое задание\n",
        "\n",
        "#### Вариант 1. (простой)\n",
        "\n",
        "- обучить сверточную нейронную сеть в стиле AlexNet (с падением размера ядра свертки и последовательностью блоков свертка-пулинг (conv-pool)-(conv-pool)-...) на датасете fashion-mnist или cifar10\n",
        "\n",
        "- оценить рост точности при увеличении ширины сети (больше ядер)\n",
        "\n",
        "- оценить рост точности при увеличении глубины сети (больше слоев)\n",
        "\n",
        "- (опциционально)сравнить с точностью полносвязной сети для этой выборки"
      ]
    },
    {
      "cell_type": "code",
      "execution_count": 1,
      "id": "545d0b59",
      "metadata": {
        "colab": {
          "base_uri": "https://localhost:8080/"
        },
        "id": "545d0b59",
        "outputId": "c682ea6f-d9f2-4ff8-acd3-1359ff83c9a7"
      },
      "outputs": [
        {
          "output_type": "stream",
          "name": "stdout",
          "text": [
            "Requirement already satisfied: pip in /usr/local/lib/python3.7/dist-packages (21.1.3)\n",
            "Collecting pip\n",
            "  Downloading pip-22.0.4-py3-none-any.whl (2.1 MB)\n",
            "\u001b[K     |████████████████████████████████| 2.1 MB 15.7 MB/s \n",
            "\u001b[?25hInstalling collected packages: pip\n",
            "  Attempting uninstall: pip\n",
            "    Found existing installation: pip 21.1.3\n",
            "    Uninstalling pip-21.1.3:\n",
            "      Successfully uninstalled pip-21.1.3\n",
            "Successfully installed pip-22.0.4\n"
          ]
        }
      ],
      "source": [
        "pip install --upgrade pip"
      ]
    },
    {
      "cell_type": "code",
      "execution_count": 2,
      "id": "6d59c358",
      "metadata": {
        "colab": {
          "base_uri": "https://localhost:8080/"
        },
        "id": "6d59c358",
        "outputId": "fdde08a4-11a8-450c-ec8b-0b1f9b7772c2"
      },
      "outputs": [
        {
          "output_type": "stream",
          "name": "stdout",
          "text": [
            "\n",
            "Usage:   \n",
            "  pip install [options] <requirement specifier> [package-index-options] ...\n",
            "  pip install [options] -r <requirements file> [package-index-options] ...\n",
            "  pip install [options] [-e] <vcs project url> ...\n",
            "  pip install [options] [-e] <local project path> ...\n",
            "  pip install [options] <archive url/path> ...\n",
            "\n",
            "no such option: -l\n"
          ]
        }
      ],
      "source": [
        "!pip install tensorflow -latest"
      ]
    },
    {
      "cell_type": "code",
      "execution_count": 3,
      "id": "4fa34c2b",
      "metadata": {
        "colab": {
          "base_uri": "https://localhost:8080/"
        },
        "id": "4fa34c2b",
        "outputId": "73512a5f-40ba-47f0-e37d-5772785b7197"
      },
      "outputs": [
        {
          "output_type": "stream",
          "name": "stdout",
          "text": [
            "Requirement already satisfied: tensorflow in /usr/local/lib/python3.7/dist-packages (2.8.0)\n",
            "Requirement already satisfied: tensorboard<2.9,>=2.8 in /usr/local/lib/python3.7/dist-packages (from tensorflow) (2.8.0)\n",
            "Requirement already satisfied: typing-extensions>=3.6.6 in /usr/local/lib/python3.7/dist-packages (from tensorflow) (3.10.0.2)\n",
            "Requirement already satisfied: six>=1.12.0 in /usr/local/lib/python3.7/dist-packages (from tensorflow) (1.15.0)\n",
            "Requirement already satisfied: flatbuffers>=1.12 in /usr/local/lib/python3.7/dist-packages (from tensorflow) (2.0)\n",
            "Requirement already satisfied: protobuf>=3.9.2 in /usr/local/lib/python3.7/dist-packages (from tensorflow) (3.17.3)\n",
            "Requirement already satisfied: opt-einsum>=2.3.2 in /usr/local/lib/python3.7/dist-packages (from tensorflow) (3.3.0)\n",
            "Requirement already satisfied: keras<2.9,>=2.8.0rc0 in /usr/local/lib/python3.7/dist-packages (from tensorflow) (2.8.0)\n",
            "Requirement already satisfied: setuptools in /usr/local/lib/python3.7/dist-packages (from tensorflow) (57.4.0)\n",
            "Requirement already satisfied: tensorflow-io-gcs-filesystem>=0.23.1 in /usr/local/lib/python3.7/dist-packages (from tensorflow) (0.24.0)\n",
            "Requirement already satisfied: termcolor>=1.1.0 in /usr/local/lib/python3.7/dist-packages (from tensorflow) (1.1.0)\n",
            "Requirement already satisfied: keras-preprocessing>=1.1.1 in /usr/local/lib/python3.7/dist-packages (from tensorflow) (1.1.2)\n",
            "Requirement already satisfied: google-pasta>=0.1.1 in /usr/local/lib/python3.7/dist-packages (from tensorflow) (0.2.0)\n",
            "Requirement already satisfied: grpcio<2.0,>=1.24.3 in /usr/local/lib/python3.7/dist-packages (from tensorflow) (1.44.0)\n",
            "Requirement already satisfied: gast>=0.2.1 in /usr/local/lib/python3.7/dist-packages (from tensorflow) (0.5.3)\n",
            "Collecting tf-estimator-nightly==2.8.0.dev2021122109\n",
            "  Downloading tf_estimator_nightly-2.8.0.dev2021122109-py2.py3-none-any.whl (462 kB)\n",
            "\u001b[2K     \u001b[90m━━━━━━━━━━━━━━━━━━━━━━━━━━━━━━━━━━━━━━\u001b[0m \u001b[32m462.5/462.5 KB\u001b[0m \u001b[31m23.3 MB/s\u001b[0m eta \u001b[36m0:00:00\u001b[0m\n",
            "\u001b[?25hRequirement already satisfied: h5py>=2.9.0 in /usr/local/lib/python3.7/dist-packages (from tensorflow) (3.1.0)\n",
            "Requirement already satisfied: wrapt>=1.11.0 in /usr/local/lib/python3.7/dist-packages (from tensorflow) (1.13.3)\n",
            "Requirement already satisfied: numpy>=1.20 in /usr/local/lib/python3.7/dist-packages (from tensorflow) (1.21.5)\n",
            "Requirement already satisfied: absl-py>=0.4.0 in /usr/local/lib/python3.7/dist-packages (from tensorflow) (1.0.0)\n",
            "Requirement already satisfied: libclang>=9.0.1 in /usr/local/lib/python3.7/dist-packages (from tensorflow) (13.0.0)\n",
            "Requirement already satisfied: astunparse>=1.6.0 in /usr/local/lib/python3.7/dist-packages (from tensorflow) (1.6.3)\n",
            "Requirement already satisfied: wheel<1.0,>=0.23.0 in /usr/local/lib/python3.7/dist-packages (from astunparse>=1.6.0->tensorflow) (0.37.1)\n",
            "Requirement already satisfied: cached-property in /usr/local/lib/python3.7/dist-packages (from h5py>=2.9.0->tensorflow) (1.5.2)\n",
            "Requirement already satisfied: markdown>=2.6.8 in /usr/local/lib/python3.7/dist-packages (from tensorboard<2.9,>=2.8->tensorflow) (3.3.6)\n",
            "Requirement already satisfied: tensorboard-plugin-wit>=1.6.0 in /usr/local/lib/python3.7/dist-packages (from tensorboard<2.9,>=2.8->tensorflow) (1.8.1)\n",
            "Requirement already satisfied: google-auth<3,>=1.6.3 in /usr/local/lib/python3.7/dist-packages (from tensorboard<2.9,>=2.8->tensorflow) (1.35.0)\n",
            "Requirement already satisfied: tensorboard-data-server<0.7.0,>=0.6.0 in /usr/local/lib/python3.7/dist-packages (from tensorboard<2.9,>=2.8->tensorflow) (0.6.1)\n",
            "Requirement already satisfied: werkzeug>=0.11.15 in /usr/local/lib/python3.7/dist-packages (from tensorboard<2.9,>=2.8->tensorflow) (1.0.1)\n",
            "Requirement already satisfied: requests<3,>=2.21.0 in /usr/local/lib/python3.7/dist-packages (from tensorboard<2.9,>=2.8->tensorflow) (2.23.0)\n",
            "Requirement already satisfied: google-auth-oauthlib<0.5,>=0.4.1 in /usr/local/lib/python3.7/dist-packages (from tensorboard<2.9,>=2.8->tensorflow) (0.4.6)\n",
            "Requirement already satisfied: cachetools<5.0,>=2.0.0 in /usr/local/lib/python3.7/dist-packages (from google-auth<3,>=1.6.3->tensorboard<2.9,>=2.8->tensorflow) (4.2.4)\n",
            "Requirement already satisfied: pyasn1-modules>=0.2.1 in /usr/local/lib/python3.7/dist-packages (from google-auth<3,>=1.6.3->tensorboard<2.9,>=2.8->tensorflow) (0.2.8)\n",
            "Requirement already satisfied: rsa<5,>=3.1.4 in /usr/local/lib/python3.7/dist-packages (from google-auth<3,>=1.6.3->tensorboard<2.9,>=2.8->tensorflow) (4.8)\n",
            "Requirement already satisfied: requests-oauthlib>=0.7.0 in /usr/local/lib/python3.7/dist-packages (from google-auth-oauthlib<0.5,>=0.4.1->tensorboard<2.9,>=2.8->tensorflow) (1.3.1)\n",
            "Requirement already satisfied: importlib-metadata>=4.4 in /usr/local/lib/python3.7/dist-packages (from markdown>=2.6.8->tensorboard<2.9,>=2.8->tensorflow) (4.11.2)\n",
            "Requirement already satisfied: idna<3,>=2.5 in /usr/local/lib/python3.7/dist-packages (from requests<3,>=2.21.0->tensorboard<2.9,>=2.8->tensorflow) (2.10)\n",
            "Requirement already satisfied: chardet<4,>=3.0.2 in /usr/local/lib/python3.7/dist-packages (from requests<3,>=2.21.0->tensorboard<2.9,>=2.8->tensorflow) (3.0.4)\n",
            "Requirement already satisfied: certifi>=2017.4.17 in /usr/local/lib/python3.7/dist-packages (from requests<3,>=2.21.0->tensorboard<2.9,>=2.8->tensorflow) (2021.10.8)\n",
            "Requirement already satisfied: urllib3!=1.25.0,!=1.25.1,<1.26,>=1.21.1 in /usr/local/lib/python3.7/dist-packages (from requests<3,>=2.21.0->tensorboard<2.9,>=2.8->tensorflow) (1.24.3)\n",
            "Requirement already satisfied: zipp>=0.5 in /usr/local/lib/python3.7/dist-packages (from importlib-metadata>=4.4->markdown>=2.6.8->tensorboard<2.9,>=2.8->tensorflow) (3.7.0)\n",
            "Requirement already satisfied: pyasn1<0.5.0,>=0.4.6 in /usr/local/lib/python3.7/dist-packages (from pyasn1-modules>=0.2.1->google-auth<3,>=1.6.3->tensorboard<2.9,>=2.8->tensorflow) (0.4.8)\n",
            "Requirement already satisfied: oauthlib>=3.0.0 in /usr/local/lib/python3.7/dist-packages (from requests-oauthlib>=0.7.0->google-auth-oauthlib<0.5,>=0.4.1->tensorboard<2.9,>=2.8->tensorflow) (3.2.0)\n",
            "Installing collected packages: tf-estimator-nightly\n",
            "Successfully installed tf-estimator-nightly-2.8.0.dev2021122109\n",
            "\u001b[33mWARNING: Running pip as the 'root' user can result in broken permissions and conflicting behaviour with the system package manager. It is recommended to use a virtual environment instead: https://pip.pypa.io/warnings/venv\u001b[0m\u001b[33m\n",
            "\u001b[0m"
          ]
        }
      ],
      "source": [
        "!pip install --upgrade tensorflow"
      ]
    },
    {
      "cell_type": "code",
      "execution_count": 4,
      "id": "64a14ff2",
      "metadata": {
        "colab": {
          "base_uri": "https://localhost:8080/"
        },
        "id": "64a14ff2",
        "outputId": "02798503-1396-4504-d6ec-a30ff14770b3"
      },
      "outputs": [
        {
          "output_type": "stream",
          "name": "stdout",
          "text": [
            "Collecting mnist\n",
            "  Downloading mnist-0.2.2-py2.py3-none-any.whl (3.5 kB)\n",
            "Requirement already satisfied: numpy in /usr/local/lib/python3.7/dist-packages (from mnist) (1.21.5)\n",
            "Installing collected packages: mnist\n",
            "Successfully installed mnist-0.2.2\n",
            "\u001b[33mWARNING: Running pip as the 'root' user can result in broken permissions and conflicting behaviour with the system package manager. It is recommended to use a virtual environment instead: https://pip.pypa.io/warnings/venv\u001b[0m\u001b[33m\n",
            "\u001b[0m"
          ]
        }
      ],
      "source": [
        "!pip install mnist"
      ]
    },
    {
      "cell_type": "code",
      "execution_count": 5,
      "id": "4179f735",
      "metadata": {
        "colab": {
          "base_uri": "https://localhost:8080/"
        },
        "id": "4179f735",
        "outputId": "16aa8fca-2c13-4753-a34d-b8b0cc2cc6b5"
      },
      "outputs": [
        {
          "output_type": "stream",
          "name": "stdout",
          "text": [
            "Requirement already satisfied: tensorflow_datasets in /usr/local/lib/python3.7/dist-packages (4.0.1)\n",
            "Requirement already satisfied: future in /usr/local/lib/python3.7/dist-packages (from tensorflow_datasets) (0.16.0)\n",
            "Requirement already satisfied: six in /usr/local/lib/python3.7/dist-packages (from tensorflow_datasets) (1.15.0)\n",
            "Requirement already satisfied: requests>=2.19.0 in /usr/local/lib/python3.7/dist-packages (from tensorflow_datasets) (2.23.0)\n",
            "Requirement already satisfied: protobuf>=3.6.1 in /usr/local/lib/python3.7/dist-packages (from tensorflow_datasets) (3.17.3)\n",
            "Requirement already satisfied: tensorflow-metadata in /usr/local/lib/python3.7/dist-packages (from tensorflow_datasets) (1.7.0)\n",
            "Requirement already satisfied: numpy in /usr/local/lib/python3.7/dist-packages (from tensorflow_datasets) (1.21.5)\n",
            "Requirement already satisfied: importlib-resources in /usr/local/lib/python3.7/dist-packages (from tensorflow_datasets) (5.4.0)\n",
            "Requirement already satisfied: termcolor in /usr/local/lib/python3.7/dist-packages (from tensorflow_datasets) (1.1.0)\n",
            "Requirement already satisfied: dill in /usr/local/lib/python3.7/dist-packages (from tensorflow_datasets) (0.3.4)\n",
            "Requirement already satisfied: promise in /usr/local/lib/python3.7/dist-packages (from tensorflow_datasets) (2.3)\n",
            "Requirement already satisfied: absl-py in /usr/local/lib/python3.7/dist-packages (from tensorflow_datasets) (1.0.0)\n",
            "Requirement already satisfied: tqdm in /usr/local/lib/python3.7/dist-packages (from tensorflow_datasets) (4.63.0)\n",
            "Requirement already satisfied: attrs>=18.1.0 in /usr/local/lib/python3.7/dist-packages (from tensorflow_datasets) (21.4.0)\n",
            "Requirement already satisfied: dm-tree in /usr/local/lib/python3.7/dist-packages (from tensorflow_datasets) (0.1.6)\n",
            "Requirement already satisfied: chardet<4,>=3.0.2 in /usr/local/lib/python3.7/dist-packages (from requests>=2.19.0->tensorflow_datasets) (3.0.4)\n",
            "Requirement already satisfied: certifi>=2017.4.17 in /usr/local/lib/python3.7/dist-packages (from requests>=2.19.0->tensorflow_datasets) (2021.10.8)\n",
            "Requirement already satisfied: idna<3,>=2.5 in /usr/local/lib/python3.7/dist-packages (from requests>=2.19.0->tensorflow_datasets) (2.10)\n",
            "Requirement already satisfied: urllib3!=1.25.0,!=1.25.1,<1.26,>=1.21.1 in /usr/local/lib/python3.7/dist-packages (from requests>=2.19.0->tensorflow_datasets) (1.24.3)\n",
            "Requirement already satisfied: zipp>=3.1.0 in /usr/local/lib/python3.7/dist-packages (from importlib-resources->tensorflow_datasets) (3.7.0)\n",
            "Requirement already satisfied: googleapis-common-protos<2,>=1.52.0 in /usr/local/lib/python3.7/dist-packages (from tensorflow-metadata->tensorflow_datasets) (1.55.0)\n",
            "\u001b[33mWARNING: Running pip as the 'root' user can result in broken permissions and conflicting behaviour with the system package manager. It is recommended to use a virtual environment instead: https://pip.pypa.io/warnings/venv\u001b[0m\u001b[33m\n",
            "\u001b[0m"
          ]
        }
      ],
      "source": [
        "!pip install tensorflow_datasets"
      ]
    },
    {
      "cell_type": "code",
      "execution_count": 6,
      "id": "078b753a",
      "metadata": {
        "id": "078b753a"
      },
      "outputs": [],
      "source": [
        "import pandas as pd\n",
        "\n",
        "from tensorflow.keras.models import Sequential\n",
        "from tensorflow.keras import models, layers\n",
        "import tensorflow.keras as keras\n",
        "from keras.layers import Dense\n",
        "# from keras.utils import to_categorical\n",
        "\n",
        "from tensorflow.keras.utils import to_categorical\n",
        "from keras.datasets import fashion_mnist"
      ]
    },
    {
      "cell_type": "markdown",
      "id": "c098fb27",
      "metadata": {
        "id": "c098fb27"
      },
      "source": [
        "#### Обучение сверточной нейронной сети в стиле AlexNet (с падением размера ядра свертки и последовательностью блоков свертка-пулинг (conv-pool)-(conv-pool)-...) на датасете fashion-mnist"
      ]
    },
    {
      "cell_type": "code",
      "execution_count": 7,
      "id": "5449fb91",
      "metadata": {
        "colab": {
          "base_uri": "https://localhost:8080/"
        },
        "id": "5449fb91",
        "outputId": "4ba9be15-6f5f-411b-e8d1-5e503aba0f59"
      },
      "outputs": [
        {
          "output_type": "stream",
          "name": "stdout",
          "text": [
            "Downloading data from https://storage.googleapis.com/tensorflow/tf-keras-datasets/train-labels-idx1-ubyte.gz\n",
            "32768/29515 [=================================] - 0s 0us/step\n",
            "40960/29515 [=========================================] - 0s 0us/step\n",
            "Downloading data from https://storage.googleapis.com/tensorflow/tf-keras-datasets/train-images-idx3-ubyte.gz\n",
            "26427392/26421880 [==============================] - 0s 0us/step\n",
            "26435584/26421880 [==============================] - 0s 0us/step\n",
            "Downloading data from https://storage.googleapis.com/tensorflow/tf-keras-datasets/t10k-labels-idx1-ubyte.gz\n",
            "16384/5148 [===============================================================================================] - 0s 0us/step\n",
            "Downloading data from https://storage.googleapis.com/tensorflow/tf-keras-datasets/t10k-images-idx3-ubyte.gz\n",
            "4423680/4422102 [==============================] - 0s 0us/step\n",
            "4431872/4422102 [==============================] - 0s 0us/step\n"
          ]
        }
      ],
      "source": [
        "(x_train, y_train), (x_test, y_test)=fashion_mnist.load_data()"
      ]
    },
    {
      "cell_type": "code",
      "execution_count": 8,
      "id": "9d12ce62",
      "metadata": {
        "id": "9d12ce62"
      },
      "outputs": [],
      "source": [
        "x_train = x_train.astype('float32')\n",
        "x_test = x_test.astype('float32')\n",
        "\n",
        "x_train /= 255\n",
        "x_test /= 255\n",
        "\n",
        "y_train = to_categorical(y_train, 10) \n",
        "y_test = to_categorical(y_test, 10) \n",
        "\n",
        "x_train = x_train.reshape(x_train.shape[0], 28,28,1)\n",
        "x_test = x_test.reshape(x_test.shape[0], 28,28,1)"
      ]
    },
    {
      "cell_type": "markdown",
      "id": "d95902f8",
      "metadata": {
        "id": "d95902f8"
      },
      "source": [
        "#### Оценка роста точности при увеличении ширины сети (больше ядер)"
      ]
    },
    {
      "cell_type": "code",
      "execution_count": 9,
      "id": "d4b77b1d",
      "metadata": {
        "id": "d4b77b1d"
      },
      "outputs": [],
      "source": [
        "results = []"
      ]
    },
    {
      "cell_type": "code",
      "execution_count": null,
      "id": "d818da9d",
      "metadata": {
        "colab": {
          "base_uri": "https://localhost:8080/"
        },
        "id": "d818da9d",
        "outputId": "50bdbaf3-1f15-4d70-94af-664f71b68f2f"
      },
      "outputs": [
        {
          "output_type": "stream",
          "name": "stdout",
          "text": [
            "Epoch 1/2\n",
            "469/469 [==============================] - 106s 225ms/step - loss: 1.0542 - accuracy: 0.6340 - val_loss: 0.6815 - val_accuracy: 0.7236\n",
            "Epoch 2/2\n",
            "469/469 [==============================] - 98s 209ms/step - loss: 0.6203 - accuracy: 0.7671 - val_loss: 0.6352 - val_accuracy: 0.7803\n",
            "Epoch 1/2\n",
            "469/469 [==============================] - 98s 208ms/step - loss: 1.0607 - accuracy: 0.6282 - val_loss: 0.7425 - val_accuracy: 0.7299\n",
            "Epoch 2/2\n",
            "469/469 [==============================] - 98s 209ms/step - loss: 0.6483 - accuracy: 0.7574 - val_loss: 0.6899 - val_accuracy: 0.7611\n",
            "Epoch 1/2\n",
            "469/469 [==============================] - 99s 210ms/step - loss: 0.9906 - accuracy: 0.6529 - val_loss: 0.6890 - val_accuracy: 0.7515\n",
            "Epoch 2/2\n",
            "469/469 [==============================] - 99s 211ms/step - loss: 0.6373 - accuracy: 0.7642 - val_loss: 0.6046 - val_accuracy: 0.7616\n",
            "Epoch 1/2\n",
            "469/469 [==============================] - 99s 210ms/step - loss: 1.0152 - accuracy: 0.6406 - val_loss: 0.7763 - val_accuracy: 0.7324\n",
            "Epoch 2/2\n",
            "469/469 [==============================] - 99s 210ms/step - loss: 0.6619 - accuracy: 0.7543 - val_loss: 0.6350 - val_accuracy: 0.7588\n",
            "Epoch 1/2\n",
            "469/469 [==============================] - 99s 210ms/step - loss: 1.0720 - accuracy: 0.6221 - val_loss: 0.6846 - val_accuracy: 0.7378\n",
            "Epoch 2/2\n",
            "469/469 [==============================] - 99s 210ms/step - loss: 0.6300 - accuracy: 0.7646 - val_loss: 0.5761 - val_accuracy: 0.7862\n",
            "Epoch 1/2\n",
            "469/469 [==============================] - 100s 213ms/step - loss: 1.0247 - accuracy: 0.6410 - val_loss: 0.7053 - val_accuracy: 0.7144\n",
            "Epoch 2/2\n",
            "469/469 [==============================] - 100s 212ms/step - loss: 0.6238 - accuracy: 0.7665 - val_loss: 0.5793 - val_accuracy: 0.7846\n",
            "Epoch 1/2\n",
            "469/469 [==============================] - 99s 211ms/step - loss: 1.0172 - accuracy: 0.6395 - val_loss: 0.8102 - val_accuracy: 0.6881\n",
            "Epoch 2/2\n",
            "469/469 [==============================] - 98s 210ms/step - loss: 0.6454 - accuracy: 0.7556 - val_loss: 0.6127 - val_accuracy: 0.7710\n",
            "Epoch 1/2\n",
            "469/469 [==============================] - 99s 210ms/step - loss: 1.0183 - accuracy: 0.6379 - val_loss: 0.7287 - val_accuracy: 0.7384\n",
            "Epoch 2/2\n",
            "469/469 [==============================] - 99s 210ms/step - loss: 0.6301 - accuracy: 0.7645 - val_loss: 0.5731 - val_accuracy: 0.7860\n",
            "Epoch 1/2\n",
            "469/469 [==============================] - 99s 210ms/step - loss: 1.0785 - accuracy: 0.6152 - val_loss: 0.7508 - val_accuracy: 0.7229\n",
            "Epoch 2/2\n",
            "469/469 [==============================] - 111s 236ms/step - loss: 0.6726 - accuracy: 0.7491 - val_loss: 0.6223 - val_accuracy: 0.7695\n",
            "Epoch 1/2\n",
            "469/469 [==============================] - 99s 211ms/step - loss: 1.0285 - accuracy: 0.6326 - val_loss: 0.7643 - val_accuracy: 0.7033\n",
            "Epoch 2/2\n",
            "469/469 [==============================] - 99s 212ms/step - loss: 0.6628 - accuracy: 0.7535 - val_loss: 0.6562 - val_accuracy: 0.7569\n",
            "Epoch 1/2\n",
            "469/469 [==============================] - 101s 214ms/step - loss: 1.0663 - accuracy: 0.6202 - val_loss: 0.8415 - val_accuracy: 0.6607\n",
            "Epoch 2/2\n",
            "249/469 [==============>...............] - ETA: 45s - loss: 0.7159 - accuracy: 0.7301"
          ]
        }
      ],
      "source": [
        "#по 10 прогонов с каждым из трёх вариантов размера ядер ( 20 - 10 - 5, 10 - 5 - 3, 5 - 3 - 2) \n",
        "# с каждым из двух вариантов кол-ва нейронов для сверточного слоя (6 - 16 - 120, 12-32-120)\n",
        "\n",
        "for i in range (11):\n",
        "  result = {}\n",
        "\n",
        "  # инициализация пустой модели\n",
        "  model = Sequential()\n",
        "\n",
        "  # первый сверточный слой\n",
        "  model.add(layers.Conv2D(12, kernel_size=(5, 5), strides=(1, 1), activation='relu', input_shape=(28,28,1), padding=\"same\"))\n",
        "\n",
        "  # второй пуллинговый слой\n",
        "  model.add(layers.MaxPooling2D(pool_size=(2, 2), strides=(1, 1), padding='valid'))\n",
        "\n",
        "  # третий сверточный слой\n",
        "  model.add(layers.Conv2D(32, kernel_size=(3, 3), strides=(1, 1), activation='relu', padding='valid'))\n",
        "\n",
        "  # четвертый пуллинговый слой\n",
        "  model.add(layers.MaxPooling2D(pool_size=(2, 2), strides=(2, 2), padding='valid'))\n",
        "\n",
        "  # пятый сверточный слой\n",
        "  model.add(layers.Conv2D(120, kernel_size=(2, 2), strides=(1, 1), activation='relu', padding='valid'))\n",
        "\n",
        "  # сглаживание CNN выхода чтобы можно было его присоединить к полносвязногому слою\n",
        "  model.add(layers.Flatten())\n",
        "\n",
        "  # шестой полносвязный слой\n",
        "  model.add(layers.Dense(84, activation='relu'))\n",
        "\n",
        "  # выходной слой с функцией активации softmax\n",
        "  model.add(layers.Dense(10, activation='softmax'))\n",
        "\n",
        "\n",
        "  # компилияция модели\n",
        "  model.compile(loss=keras.losses.categorical_crossentropy, optimizer='SGD', metrics=[\"accuracy\"])\n",
        "\n",
        "\n",
        "  hh = model.fit(x=x_train,y=y_train, epochs=2, batch_size=128, validation_data=(x_test, y_test), verbose=1)\n",
        "\n",
        "  result['neurons'] = '12, 32, 120'\n",
        "  result['kernels'] = '5, 3, 2'\n",
        "  result['Conv_layer'] = 3\n",
        "  result['MaxPooling_layer'] = 2\n",
        "  result['accuracy_tr']= hh.history['accuracy'][-1]\n",
        "  result['accuracy_val']= hh.history['val_accuracy'][-1]\n",
        "\n",
        "  results.append(result)"
      ]
    },
    {
      "cell_type": "code",
      "execution_count": 11,
      "id": "19ba4045",
      "metadata": {
        "colab": {
          "base_uri": "https://localhost:8080/"
        },
        "id": "19ba4045",
        "outputId": "24de2234-56bd-4a7f-d466-bd53d0cdfc74"
      },
      "outputs": [
        {
          "output_type": "stream",
          "name": "stdout",
          "text": [
            "Epoch 1/2\n",
            "469/469 [==============================] - 178s 379ms/step - loss: 1.0651 - accuracy: 0.6313 - val_loss: 0.8203 - val_accuracy: 0.6710\n",
            "Epoch 2/2\n",
            "469/469 [==============================] - 178s 379ms/step - loss: 0.6040 - accuracy: 0.7793 - val_loss: 0.5754 - val_accuracy: 0.7930\n",
            "Epoch 1/2\n",
            "469/469 [==============================] - 176s 374ms/step - loss: 1.0769 - accuracy: 0.6322 - val_loss: 0.7125 - val_accuracy: 0.7126\n",
            "Epoch 2/2\n",
            "469/469 [==============================] - 179s 381ms/step - loss: 0.5831 - accuracy: 0.7834 - val_loss: 0.5485 - val_accuracy: 0.7969\n",
            "Epoch 1/2\n",
            "469/469 [==============================] - 178s 377ms/step - loss: 1.1050 - accuracy: 0.6027 - val_loss: 0.8918 - val_accuracy: 0.6453\n",
            "Epoch 2/2\n",
            "469/469 [==============================] - 178s 379ms/step - loss: 0.6680 - accuracy: 0.7517 - val_loss: 0.6247 - val_accuracy: 0.7653\n",
            "Epoch 1/2\n",
            "469/469 [==============================] - 178s 379ms/step - loss: 1.0426 - accuracy: 0.6234 - val_loss: 0.7102 - val_accuracy: 0.7316\n",
            "Epoch 2/2\n",
            "469/469 [==============================] - 178s 379ms/step - loss: 0.6191 - accuracy: 0.7720 - val_loss: 0.7095 - val_accuracy: 0.7467\n",
            "Epoch 1/2\n",
            "469/469 [==============================] - 179s 380ms/step - loss: 1.0593 - accuracy: 0.6259 - val_loss: 0.6764 - val_accuracy: 0.7549\n",
            "Epoch 2/2\n",
            "469/469 [==============================] - 178s 379ms/step - loss: 0.6143 - accuracy: 0.7743 - val_loss: 0.5787 - val_accuracy: 0.7794\n",
            "Epoch 1/2\n",
            "469/469 [==============================] - 178s 380ms/step - loss: 1.1139 - accuracy: 0.5976 - val_loss: 0.6760 - val_accuracy: 0.7534\n",
            "Epoch 2/2\n",
            "469/469 [==============================] - 178s 379ms/step - loss: 0.6228 - accuracy: 0.7703 - val_loss: 0.5827 - val_accuracy: 0.7790\n",
            "Epoch 1/2\n",
            "469/469 [==============================] - 180s 382ms/step - loss: 1.0289 - accuracy: 0.6500 - val_loss: 0.6498 - val_accuracy: 0.7549\n",
            "Epoch 2/2\n",
            "469/469 [==============================] - 179s 381ms/step - loss: 0.5734 - accuracy: 0.7864 - val_loss: 0.5854 - val_accuracy: 0.7753\n",
            "Epoch 1/2\n",
            "469/469 [==============================] - 178s 378ms/step - loss: 1.0692 - accuracy: 0.6211 - val_loss: 0.6821 - val_accuracy: 0.7437\n",
            "Epoch 2/2\n",
            "469/469 [==============================] - 178s 380ms/step - loss: 0.6125 - accuracy: 0.7717 - val_loss: 0.6067 - val_accuracy: 0.7771\n",
            "Epoch 1/2\n",
            "469/469 [==============================] - 179s 380ms/step - loss: 1.0556 - accuracy: 0.6262 - val_loss: 0.7183 - val_accuracy: 0.7230\n",
            "Epoch 2/2\n",
            "469/469 [==============================] - 178s 379ms/step - loss: 0.6193 - accuracy: 0.7726 - val_loss: 0.5951 - val_accuracy: 0.7846\n",
            "Epoch 1/2\n",
            "469/469 [==============================] - 179s 382ms/step - loss: 1.0508 - accuracy: 0.6408 - val_loss: 0.6993 - val_accuracy: 0.7388\n",
            "Epoch 2/2\n",
            "469/469 [==============================] - 178s 381ms/step - loss: 0.5894 - accuracy: 0.7862 - val_loss: 0.5629 - val_accuracy: 0.7934\n",
            "Epoch 1/2\n",
            "469/469 [==============================] - 179s 381ms/step - loss: 1.0510 - accuracy: 0.6301 - val_loss: 0.7154 - val_accuracy: 0.7202\n",
            "Epoch 2/2\n",
            "469/469 [==============================] - 179s 381ms/step - loss: 0.6176 - accuracy: 0.7705 - val_loss: 0.5901 - val_accuracy: 0.7844\n"
          ]
        }
      ],
      "source": [
        "for i in range (11):\n",
        "  result = {}\n",
        "\n",
        "  # инициализация пустой модели\n",
        "  model = Sequential()\n",
        "\n",
        "  # первый сверточный слой\n",
        "  model.add(layers.Conv2D(12, kernel_size=(10, 10), strides=(1, 1), activation='relu', input_shape=(28,28,1), padding=\"same\"))\n",
        "\n",
        "  # второй пуллинговый слой\n",
        "  model.add(layers.MaxPooling2D(pool_size=(2, 2), strides=(1, 1), padding='valid'))\n",
        "\n",
        "  # третий сверточный слой\n",
        "  model.add(layers.Conv2D(32, kernel_size=(5, 5), strides=(1, 1), activation='relu', padding='valid'))\n",
        "\n",
        "  # четвертый пуллинговый слой\n",
        "  model.add(layers.MaxPooling2D(pool_size=(2, 2), strides=(2, 2), padding='valid'))\n",
        "\n",
        "  # пятый сверточный слой\n",
        "  model.add(layers.Conv2D(120, kernel_size=(3, 3), strides=(1, 1), activation='relu', padding='valid'))\n",
        "\n",
        "  # сглаживание CNN выхода чтобы можно было его присоединить к полносвязногому слою\n",
        "  model.add(layers.Flatten())\n",
        "\n",
        "  # шестой полносвязный слой\n",
        "  model.add(layers.Dense(84, activation='relu'))\n",
        "\n",
        "  # выходной слой с функцией активации softmax\n",
        "  model.add(layers.Dense(10, activation='softmax'))\n",
        "\n",
        "\n",
        "  # компилияция модели\n",
        "  model.compile(loss=keras.losses.categorical_crossentropy, optimizer='SGD', metrics=[\"accuracy\"])\n",
        "\n",
        "\n",
        "  hh = model.fit(x=x_train,y=y_train, epochs=2, batch_size=128, validation_data=(x_test, y_test), verbose=1)\n",
        "\n",
        "  result['neurons'] = '12, 32, 120'\n",
        "  result['kernels'] = '10, 5, 3'\n",
        "  result['Conv_layer'] = 3\n",
        "  result['MaxPooling_layer'] = 2\n",
        "  result['accuracy_tr']= hh.history['accuracy'][-1]\n",
        "  result['accuracy_val']= hh.history['val_accuracy'][-1]\n",
        "\n",
        "  results.append(result)"
      ]
    },
    {
      "cell_type": "code",
      "execution_count": 12,
      "id": "ce07a5d1",
      "metadata": {
        "colab": {
          "base_uri": "https://localhost:8080/"
        },
        "id": "ce07a5d1",
        "outputId": "eefe7fab-57d4-49bf-f14b-1c18a2566eff"
      },
      "outputs": [
        {
          "output_type": "stream",
          "name": "stdout",
          "text": [
            "Epoch 1/2\n",
            "469/469 [==============================] - 460s 980ms/step - loss: 1.0444 - accuracy: 0.6206 - val_loss: 0.7309 - val_accuracy: 0.7289\n",
            "Epoch 2/2\n",
            "469/469 [==============================] - 458s 977ms/step - loss: 0.6170 - accuracy: 0.7687 - val_loss: 0.5933 - val_accuracy: 0.7845\n",
            "Epoch 1/2\n",
            "469/469 [==============================] - 460s 980ms/step - loss: 0.9797 - accuracy: 0.6396 - val_loss: 0.7191 - val_accuracy: 0.7200\n",
            "Epoch 2/2\n",
            "469/469 [==============================] - 458s 977ms/step - loss: 0.5874 - accuracy: 0.7835 - val_loss: 0.5635 - val_accuracy: 0.7914\n",
            "Epoch 1/2\n",
            "469/469 [==============================] - 458s 976ms/step - loss: 1.0338 - accuracy: 0.6209 - val_loss: 0.7138 - val_accuracy: 0.7343\n",
            "Epoch 2/2\n",
            "469/469 [==============================] - 459s 980ms/step - loss: 0.6142 - accuracy: 0.7761 - val_loss: 0.5758 - val_accuracy: 0.7937\n",
            "Epoch 1/2\n",
            "469/469 [==============================] - 460s 980ms/step - loss: 1.0181 - accuracy: 0.6314 - val_loss: 0.6954 - val_accuracy: 0.7389\n",
            "Epoch 2/2\n",
            "469/469 [==============================] - 460s 980ms/step - loss: 0.6019 - accuracy: 0.7789 - val_loss: 0.5682 - val_accuracy: 0.7916\n",
            "Epoch 1/2\n",
            "469/469 [==============================] - 459s 978ms/step - loss: 1.0089 - accuracy: 0.6345 - val_loss: 0.7009 - val_accuracy: 0.7362\n",
            "Epoch 2/2\n",
            "469/469 [==============================] - 457s 975ms/step - loss: 0.6293 - accuracy: 0.7662 - val_loss: 0.5914 - val_accuracy: 0.7806\n",
            "Epoch 1/2\n",
            "469/469 [==============================] - 458s 977ms/step - loss: 0.9793 - accuracy: 0.6452 - val_loss: 0.9137 - val_accuracy: 0.6577\n",
            "Epoch 2/2\n",
            "469/469 [==============================] - 459s 978ms/step - loss: 0.6004 - accuracy: 0.7792 - val_loss: 0.5939 - val_accuracy: 0.7766\n",
            "Epoch 1/2\n",
            "469/469 [==============================] - 462s 983ms/step - loss: 1.0516 - accuracy: 0.6333 - val_loss: 0.6512 - val_accuracy: 0.7545\n",
            "Epoch 2/2\n",
            "469/469 [==============================] - 455s 971ms/step - loss: 0.5817 - accuracy: 0.7880 - val_loss: 0.5706 - val_accuracy: 0.7976\n",
            "Epoch 1/2\n",
            "469/469 [==============================] - 454s 968ms/step - loss: 1.0031 - accuracy: 0.6309 - val_loss: 0.7451 - val_accuracy: 0.7257\n",
            "Epoch 2/2\n",
            "469/469 [==============================] - 454s 968ms/step - loss: 0.6021 - accuracy: 0.7781 - val_loss: 0.5673 - val_accuracy: 0.7935\n",
            "Epoch 1/2\n",
            "469/469 [==============================] - 456s 972ms/step - loss: 0.9975 - accuracy: 0.6372 - val_loss: 0.6898 - val_accuracy: 0.7427\n",
            "Epoch 2/2\n",
            "469/469 [==============================] - 454s 969ms/step - loss: 0.6024 - accuracy: 0.7761 - val_loss: 0.5992 - val_accuracy: 0.7723\n",
            "Epoch 1/2\n",
            "469/469 [==============================] - 461s 983ms/step - loss: 1.0422 - accuracy: 0.6161 - val_loss: 0.7265 - val_accuracy: 0.7355\n",
            "Epoch 2/2\n",
            "469/469 [==============================] - 463s 987ms/step - loss: 0.6082 - accuracy: 0.7747 - val_loss: 0.5727 - val_accuracy: 0.7883\n",
            "Epoch 1/2\n",
            "469/469 [==============================] - 462s 985ms/step - loss: 0.9826 - accuracy: 0.6429 - val_loss: 0.7237 - val_accuracy: 0.7253\n",
            "Epoch 2/2\n",
            "469/469 [==============================] - 462s 985ms/step - loss: 0.5907 - accuracy: 0.7847 - val_loss: 0.6021 - val_accuracy: 0.7778\n"
          ]
        }
      ],
      "source": [
        "for i in range (11):\n",
        "  result = {}\n",
        "\n",
        "  # инициализация пустой модели\n",
        "  model = Sequential()\n",
        "\n",
        "  # первый сверточный слой\n",
        "  model.add(layers.Conv2D(12, kernel_size=(20, 20), strides=(1, 1), activation='relu', input_shape=(28,28,1), padding=\"same\"))\n",
        "\n",
        "  # второй пуллинговый слой\n",
        "  model.add(layers.MaxPooling2D(pool_size=(2, 2), strides=(1, 1), padding='valid'))\n",
        "\n",
        "  # третий сверточный слой\n",
        "  model.add(layers.Conv2D(32, kernel_size=(10, 10), strides=(1, 1), activation='relu', padding='valid'))\n",
        "\n",
        "  # четвертый пуллинговый слой\n",
        "  model.add(layers.MaxPooling2D(pool_size=(2, 2), strides=(2, 2), padding='valid'))\n",
        "\n",
        "  # пятый сверточный слой\n",
        "  model.add(layers.Conv2D(120, kernel_size=(5, 5), strides=(1, 1), activation='relu', padding='valid'))\n",
        "\n",
        "  # сглаживание CNN выхода чтобы можно было его присоединить к полносвязногому слою\n",
        "  model.add(layers.Flatten())\n",
        "\n",
        "  # шестой полносвязный слой\n",
        "  model.add(layers.Dense(84, activation='relu'))\n",
        "\n",
        "  # выходной слой с функцией активации softmax\n",
        "  model.add(layers.Dense(10, activation='softmax'))\n",
        "\n",
        "\n",
        "  # компилияция модели\n",
        "  model.compile(loss=keras.losses.categorical_crossentropy, optimizer='SGD', metrics=[\"accuracy\"])\n",
        "\n",
        "\n",
        "  hh = model.fit(x=x_train,y=y_train, epochs=2, batch_size=128, validation_data=(x_test, y_test), verbose=1)\n",
        "\n",
        "  result['neurons'] = '12, 32, 120'\n",
        "  result['kernels'] = '20, 10, 5'\n",
        "  result['Conv_layer'] = 3\n",
        "  result['MaxPooling_layer'] = 2\n",
        "  result['accuracy_tr']= hh.history['accuracy'][-1]\n",
        "  result['accuracy_val']= hh.history['val_accuracy'][-1]\n",
        "\n",
        "  results.append(result)"
      ]
    },
    {
      "cell_type": "markdown",
      "id": "7e82c1d4",
      "metadata": {
        "id": "7e82c1d4"
      },
      "source": [
        "#### Оценка роста точности при увеличении глубины сети (больше слоев)"
      ]
    },
    {
      "cell_type": "code",
      "execution_count": 13,
      "id": "0e9e2387",
      "metadata": {
        "colab": {
          "base_uri": "https://localhost:8080/"
        },
        "id": "0e9e2387",
        "outputId": "908ab544-a550-4272-843e-a438bfe0b277"
      },
      "outputs": [
        {
          "output_type": "stream",
          "name": "stdout",
          "text": [
            "Epoch 1/2\n",
            "469/469 [==============================] - 122s 259ms/step - loss: 1.5174 - accuracy: 0.4619 - val_loss: 0.8833 - val_accuracy: 0.6741\n",
            "Epoch 2/2\n",
            "469/469 [==============================] - 121s 258ms/step - loss: 0.7645 - accuracy: 0.7104 - val_loss: 0.8132 - val_accuracy: 0.6776\n",
            "Epoch 1/2\n",
            "469/469 [==============================] - 123s 259ms/step - loss: 1.6413 - accuracy: 0.4304 - val_loss: 0.8988 - val_accuracy: 0.6627\n",
            "Epoch 2/2\n",
            "469/469 [==============================] - 121s 257ms/step - loss: 0.7559 - accuracy: 0.7194 - val_loss: 0.6974 - val_accuracy: 0.7398\n",
            "Epoch 1/2\n",
            "469/469 [==============================] - 122s 259ms/step - loss: 1.4680 - accuracy: 0.4916 - val_loss: 0.8598 - val_accuracy: 0.6624\n",
            "Epoch 2/2\n",
            "469/469 [==============================] - 121s 258ms/step - loss: 0.7311 - accuracy: 0.7295 - val_loss: 0.7002 - val_accuracy: 0.7420\n",
            "Epoch 1/2\n",
            "469/469 [==============================] - 122s 260ms/step - loss: 1.7268 - accuracy: 0.4484 - val_loss: 0.8741 - val_accuracy: 0.6811\n",
            "Epoch 2/2\n",
            "469/469 [==============================] - 121s 259ms/step - loss: 0.6731 - accuracy: 0.7442 - val_loss: 0.6203 - val_accuracy: 0.7583\n",
            "Epoch 1/2\n",
            "469/469 [==============================] - 123s 262ms/step - loss: 1.4873 - accuracy: 0.5089 - val_loss: 0.7847 - val_accuracy: 0.7094\n",
            "Epoch 2/2\n",
            "469/469 [==============================] - 122s 261ms/step - loss: 0.7104 - accuracy: 0.7323 - val_loss: 0.6494 - val_accuracy: 0.7571\n",
            "Epoch 1/2\n",
            "469/469 [==============================] - 123s 260ms/step - loss: 1.5059 - accuracy: 0.4688 - val_loss: 0.8753 - val_accuracy: 0.6806\n",
            "Epoch 2/2\n",
            "469/469 [==============================] - 121s 258ms/step - loss: 0.7508 - accuracy: 0.7188 - val_loss: 0.7429 - val_accuracy: 0.7095\n",
            "Epoch 1/2\n",
            "469/469 [==============================] - 135s 286ms/step - loss: 1.5601 - accuracy: 0.4447 - val_loss: 0.8897 - val_accuracy: 0.6506\n",
            "Epoch 2/2\n",
            "469/469 [==============================] - 121s 257ms/step - loss: 0.7687 - accuracy: 0.7104 - val_loss: 0.7225 - val_accuracy: 0.7280\n",
            "Epoch 1/2\n",
            "469/469 [==============================] - 122s 260ms/step - loss: 1.6762 - accuracy: 0.4162 - val_loss: 0.8018 - val_accuracy: 0.6871\n",
            "Epoch 2/2\n",
            "469/469 [==============================] - 121s 258ms/step - loss: 0.7138 - accuracy: 0.7313 - val_loss: 0.6654 - val_accuracy: 0.7432\n",
            "Epoch 1/2\n",
            "469/469 [==============================] - 124s 263ms/step - loss: 1.9286 - accuracy: 0.3725 - val_loss: 0.9421 - val_accuracy: 0.6132\n",
            "Epoch 2/2\n",
            "469/469 [==============================] - 122s 261ms/step - loss: 0.6926 - accuracy: 0.7403 - val_loss: 0.5963 - val_accuracy: 0.7805\n",
            "Epoch 1/2\n",
            "469/469 [==============================] - 123s 262ms/step - loss: 1.4499 - accuracy: 0.4812 - val_loss: 0.7724 - val_accuracy: 0.7053\n",
            "Epoch 2/2\n",
            "469/469 [==============================] - 122s 260ms/step - loss: 0.6714 - accuracy: 0.7466 - val_loss: 0.6177 - val_accuracy: 0.7687\n",
            "Epoch 1/2\n",
            "469/469 [==============================] - 123s 262ms/step - loss: 1.5392 - accuracy: 0.4561 - val_loss: 0.9684 - val_accuracy: 0.6530\n",
            "Epoch 2/2\n",
            "469/469 [==============================] - 123s 262ms/step - loss: 0.6995 - accuracy: 0.7375 - val_loss: 0.6593 - val_accuracy: 0.7490\n"
          ]
        }
      ],
      "source": [
        "#2с 1п, 4с 3п, 5с 4п\n",
        "for i in range (11):\n",
        "  result = {}\n",
        "\n",
        "  model = Sequential()\n",
        "\n",
        "  model.add(layers.Conv2D(6, kernel_size=(6, 6), strides=(1, 1), activation='relu', padding=\"same\"))\n",
        "\n",
        "  model.add(layers.Conv2D(12, kernel_size=(5, 5), strides=(1, 1), activation='relu', input_shape=(28,28,1), padding='valid'))\n",
        "\n",
        "  model.add(layers.MaxPooling2D(pool_size=(2, 2), strides=(1, 1), padding='valid'))\n",
        "\n",
        "  model.add(layers.Conv2D(32, kernel_size=(4, 4), strides=(1, 1), activation='relu', padding='valid'))\n",
        "\n",
        "  model.add(layers.MaxPooling2D(pool_size=(2, 2), strides=(2, 2), padding='valid'))\n",
        "\n",
        "  model.add(layers.Conv2D(80, kernel_size=(3, 3), strides=(1, 1), activation='relu', padding='valid'))\n",
        "\n",
        "  model.add(layers.MaxPooling2D(pool_size=(2, 2), strides=(2, 2), padding='valid'))\n",
        "\n",
        "  model.add(layers.Conv2D(80, kernel_size=(2, 2), strides=(1, 1), activation='relu', padding='valid'))\n",
        "\n",
        "  \n",
        "  # сглаживание CNN выхода чтобы можно было его присоединить к полносвязногому слою\n",
        "  model.add(layers.Flatten())\n",
        "\n",
        "  # шестой полносвязный слой\n",
        "  model.add(layers.Dense(84, activation='relu'))\n",
        "\n",
        "  # выходной слой с функцией активации softmax\n",
        "  model.add(layers.Dense(10, activation='softmax'))\n",
        "\n",
        "  # компилияция модели\n",
        "  model.compile(loss=keras.losses.categorical_crossentropy, optimizer='SGD', metrics=[\"accuracy\"])\n",
        "\n",
        "\n",
        "  hh = model.fit(x=x_train,y=y_train, epochs=2, batch_size=128, validation_data=(x_test, y_test), verbose=1)\n",
        "\n",
        "  result['neurons'] = '6, 12, 32, 80, 80'\n",
        "  result['kernels'] = '6, 5, 4, 3, 2'\n",
        "  result['Conv_layer'] = 5\n",
        "  result['MaxPooling_layer'] = 3\n",
        "  result['accuracy_tr']= hh.history['accuracy'][-1]\n",
        "  result['accuracy_val']= hh.history['val_accuracy'][-1]\n",
        "\n",
        "  results.append(result)"
      ]
    },
    {
      "cell_type": "markdown",
      "id": "4f471069",
      "metadata": {
        "id": "4f471069"
      },
      "source": [
        "#### Сравнение точности полносвязной сети для этой выборки"
      ]
    },
    {
      "cell_type": "code",
      "execution_count": null,
      "id": "9308730a",
      "metadata": {
        "id": "9308730a"
      },
      "outputs": [],
      "source": [
        "(train_imagesi,train_labels),(test_imagesi,test_labels)=fashion_mnist.load_data()"
      ]
    },
    {
      "cell_type": "code",
      "execution_count": 15,
      "id": "f91bf38b",
      "metadata": {
        "id": "f91bf38b"
      },
      "outputs": [],
      "source": [
        "# Normalize the images.\n",
        "train_images = (train_imagesi / 127) - 1\n",
        "test_images = (test_imagesi / 127) - 1\n",
        "\n",
        "# Flatten the images.\n",
        "train_images = train_images.reshape((-1, 784))\n",
        "test_images = test_images.reshape((-1, 784))"
      ]
    },
    {
      "cell_type": "code",
      "execution_count": 16,
      "id": "7d42b206",
      "metadata": {
        "colab": {
          "base_uri": "https://localhost:8080/"
        },
        "id": "7d42b206",
        "outputId": "d3cf264d-0853-4641-fb3a-f6cdb6263682"
      },
      "outputs": [
        {
          "output_type": "stream",
          "name": "stdout",
          "text": [
            "Epoch 1/2\n",
            "469/469 [==============================] - 4s 6ms/step - loss: 0.5191 - accuracy: 0.8133 - val_loss: 0.4289 - val_accuracy: 0.8442\n",
            "Epoch 2/2\n",
            "469/469 [==============================] - 3s 6ms/step - loss: 0.3739 - accuracy: 0.8639 - val_loss: 0.3924 - val_accuracy: 0.8603\n",
            "Epoch 1/2\n",
            "469/469 [==============================] - 4s 7ms/step - loss: 0.5210 - accuracy: 0.8111 - val_loss: 0.4322 - val_accuracy: 0.8468\n",
            "Epoch 2/2\n",
            "469/469 [==============================] - 3s 6ms/step - loss: 0.3759 - accuracy: 0.8636 - val_loss: 0.4089 - val_accuracy: 0.8554\n",
            "Epoch 1/2\n",
            "469/469 [==============================] - 4s 7ms/step - loss: 0.5194 - accuracy: 0.8149 - val_loss: 0.4706 - val_accuracy: 0.8271\n",
            "Epoch 2/2\n",
            "469/469 [==============================] - 3s 6ms/step - loss: 0.3739 - accuracy: 0.8631 - val_loss: 0.3798 - val_accuracy: 0.8640\n",
            "Epoch 1/2\n",
            "469/469 [==============================] - 4s 6ms/step - loss: 0.5228 - accuracy: 0.8106 - val_loss: 0.4470 - val_accuracy: 0.8304\n",
            "Epoch 2/2\n",
            "469/469 [==============================] - 3s 6ms/step - loss: 0.3738 - accuracy: 0.8636 - val_loss: 0.3811 - val_accuracy: 0.8627\n",
            "Epoch 1/2\n",
            "469/469 [==============================] - 4s 7ms/step - loss: 0.5132 - accuracy: 0.8160 - val_loss: 0.4589 - val_accuracy: 0.8372\n",
            "Epoch 2/2\n",
            "469/469 [==============================] - 3s 6ms/step - loss: 0.3684 - accuracy: 0.8658 - val_loss: 0.3739 - val_accuracy: 0.8644\n",
            "Epoch 1/2\n",
            "469/469 [==============================] - 4s 6ms/step - loss: 0.5113 - accuracy: 0.8168 - val_loss: 0.4822 - val_accuracy: 0.8149\n",
            "Epoch 2/2\n",
            "469/469 [==============================] - 3s 6ms/step - loss: 0.3732 - accuracy: 0.8625 - val_loss: 0.3922 - val_accuracy: 0.8605\n",
            "Epoch 1/2\n",
            "469/469 [==============================] - 4s 6ms/step - loss: 0.5139 - accuracy: 0.8156 - val_loss: 0.4289 - val_accuracy: 0.8446\n",
            "Epoch 2/2\n",
            "469/469 [==============================] - 3s 6ms/step - loss: 0.3711 - accuracy: 0.8641 - val_loss: 0.3827 - val_accuracy: 0.8640\n",
            "Epoch 1/2\n",
            "469/469 [==============================] - 4s 7ms/step - loss: 0.5211 - accuracy: 0.8130 - val_loss: 0.4445 - val_accuracy: 0.8389\n",
            "Epoch 2/2\n",
            "469/469 [==============================] - 3s 6ms/step - loss: 0.3730 - accuracy: 0.8648 - val_loss: 0.3844 - val_accuracy: 0.8608\n",
            "Epoch 1/2\n",
            "469/469 [==============================] - 4s 6ms/step - loss: 0.5159 - accuracy: 0.8156 - val_loss: 0.4241 - val_accuracy: 0.8449\n",
            "Epoch 2/2\n",
            "469/469 [==============================] - 3s 6ms/step - loss: 0.3700 - accuracy: 0.8655 - val_loss: 0.4217 - val_accuracy: 0.8485\n",
            "Epoch 1/2\n",
            "469/469 [==============================] - 4s 6ms/step - loss: 0.5181 - accuracy: 0.8138 - val_loss: 0.4285 - val_accuracy: 0.8426\n",
            "Epoch 2/2\n",
            "469/469 [==============================] - 3s 6ms/step - loss: 0.3722 - accuracy: 0.8638 - val_loss: 0.3805 - val_accuracy: 0.8596\n",
            "Epoch 1/2\n",
            "469/469 [==============================] - 4s 6ms/step - loss: 0.5187 - accuracy: 0.8127 - val_loss: 0.5034 - val_accuracy: 0.8168\n",
            "Epoch 2/2\n",
            "469/469 [==============================] - 3s 6ms/step - loss: 0.3738 - accuracy: 0.8648 - val_loss: 0.3926 - val_accuracy: 0.8594\n"
          ]
        }
      ],
      "source": [
        "for i in range (11):\n",
        "  result = {}\n",
        "\n",
        "  model = Sequential()\n",
        "\n",
        "  model.add(layers.Dense(90, activation='relu', input_shape=(784,)))\n",
        "\n",
        "  model.add(layers.Dense(90, activation='relu'))\n",
        "\n",
        "  # выходной слой с функцией активации softmax\n",
        "  model.add(layers.Dense(10, activation='softmax'))\n",
        "\n",
        "  # компилияция модели\n",
        "  model.compile(loss=keras.losses.categorical_crossentropy, optimizer='Nadam', metrics=[\"accuracy\"])\n",
        "\n",
        "\n",
        "  hh = model.fit(x=train_images,y=to_categorical(train_labels), epochs=2, batch_size=128, validation_data=(test_images, to_categorical(test_labels)), verbose=1)\n",
        "\n",
        "  result['neurons'] = ''\n",
        "  result['kernels'] = ''\n",
        "  result['Conv_layer'] = 0\n",
        "  result['MaxPooling_layer'] = 0\n",
        "  result['accuracy_tr']= hh.history['accuracy'][-1]\n",
        "  result['accuracy_val']= hh.history['val_accuracy'][-1]\n",
        "\n",
        "  results.append(result)"
      ]
    },
    {
      "cell_type": "code",
      "execution_count": null,
      "id": "0304d64f",
      "metadata": {
        "id": "0304d64f"
      },
      "outputs": [],
      "source": [
        "result1 = pd.DataFrame(results)"
      ]
    },
    {
      "cell_type": "code",
      "execution_count": 18,
      "id": "9acc9c80",
      "metadata": {
        "colab": {
          "base_uri": "https://localhost:8080/",
          "height": 238
        },
        "id": "9acc9c80",
        "outputId": "893f6bbf-20c6-4882-c650-8b629af9fe51"
      },
      "outputs": [
        {
          "data": {
            "text/html": [
              "\n",
              "  <div id=\"df-be42fe9e-68a2-477a-8938-2ffa2b75eaeb\">\n",
              "    <div class=\"colab-df-container\">\n",
              "      <div>\n",
              "<style scoped>\n",
              "    .dataframe tbody tr th:only-of-type {\n",
              "        vertical-align: middle;\n",
              "    }\n",
              "\n",
              "    .dataframe tbody tr th {\n",
              "        vertical-align: top;\n",
              "    }\n",
              "\n",
              "    .dataframe thead th {\n",
              "        text-align: right;\n",
              "    }\n",
              "</style>\n",
              "<table border=\"1\" class=\"dataframe\">\n",
              "  <thead>\n",
              "    <tr style=\"text-align: right;\">\n",
              "      <th></th>\n",
              "      <th></th>\n",
              "      <th></th>\n",
              "      <th></th>\n",
              "      <th>accuracy_tr</th>\n",
              "      <th>accuracy_val</th>\n",
              "    </tr>\n",
              "    <tr>\n",
              "      <th>neurons</th>\n",
              "      <th>kernels</th>\n",
              "      <th>Conv_layer</th>\n",
              "      <th>MaxPooling_layer</th>\n",
              "      <th></th>\n",
              "      <th></th>\n",
              "    </tr>\n",
              "  </thead>\n",
              "  <tbody>\n",
              "    <tr>\n",
              "      <th></th>\n",
              "      <th></th>\n",
              "      <th>0</th>\n",
              "      <th>0</th>\n",
              "      <td>0.864138</td>\n",
              "      <td>0.859964</td>\n",
              "    </tr>\n",
              "    <tr>\n",
              "      <th rowspan=\"3\" valign=\"top\">12, 32, 120</th>\n",
              "      <th>20, 10, 5</th>\n",
              "      <th>3</th>\n",
              "      <th>2</th>\n",
              "      <td>0.777656</td>\n",
              "      <td>0.786173</td>\n",
              "    </tr>\n",
              "    <tr>\n",
              "      <th>10, 5, 3</th>\n",
              "      <th>3</th>\n",
              "      <th>2</th>\n",
              "      <td>0.774397</td>\n",
              "      <td>0.779555</td>\n",
              "    </tr>\n",
              "    <tr>\n",
              "      <th>5, 3, 2</th>\n",
              "      <th>3</th>\n",
              "      <th>2</th>\n",
              "      <td>0.758039</td>\n",
              "      <td>0.770082</td>\n",
              "    </tr>\n",
              "    <tr>\n",
              "      <th>6, 12, 32, 80, 80</th>\n",
              "      <th>6, 5, 4, 3, 2</th>\n",
              "      <th>5</th>\n",
              "      <th>3</th>\n",
              "      <td>0.729147</td>\n",
              "      <td>0.741245</td>\n",
              "    </tr>\n",
              "  </tbody>\n",
              "</table>\n",
              "</div>\n",
              "      <button class=\"colab-df-convert\" onclick=\"convertToInteractive('df-be42fe9e-68a2-477a-8938-2ffa2b75eaeb')\"\n",
              "              title=\"Convert this dataframe to an interactive table.\"\n",
              "              style=\"display:none;\">\n",
              "        \n",
              "  <svg xmlns=\"http://www.w3.org/2000/svg\" height=\"24px\"viewBox=\"0 0 24 24\"\n",
              "       width=\"24px\">\n",
              "    <path d=\"M0 0h24v24H0V0z\" fill=\"none\"/>\n",
              "    <path d=\"M18.56 5.44l.94 2.06.94-2.06 2.06-.94-2.06-.94-.94-2.06-.94 2.06-2.06.94zm-11 1L8.5 8.5l.94-2.06 2.06-.94-2.06-.94L8.5 2.5l-.94 2.06-2.06.94zm10 10l.94 2.06.94-2.06 2.06-.94-2.06-.94-.94-2.06-.94 2.06-2.06.94z\"/><path d=\"M17.41 7.96l-1.37-1.37c-.4-.4-.92-.59-1.43-.59-.52 0-1.04.2-1.43.59L10.3 9.45l-7.72 7.72c-.78.78-.78 2.05 0 2.83L4 21.41c.39.39.9.59 1.41.59.51 0 1.02-.2 1.41-.59l7.78-7.78 2.81-2.81c.8-.78.8-2.07 0-2.86zM5.41 20L4 18.59l7.72-7.72 1.47 1.35L5.41 20z\"/>\n",
              "  </svg>\n",
              "      </button>\n",
              "      \n",
              "  <style>\n",
              "    .colab-df-container {\n",
              "      display:flex;\n",
              "      flex-wrap:wrap;\n",
              "      gap: 12px;\n",
              "    }\n",
              "\n",
              "    .colab-df-convert {\n",
              "      background-color: #E8F0FE;\n",
              "      border: none;\n",
              "      border-radius: 50%;\n",
              "      cursor: pointer;\n",
              "      display: none;\n",
              "      fill: #1967D2;\n",
              "      height: 32px;\n",
              "      padding: 0 0 0 0;\n",
              "      width: 32px;\n",
              "    }\n",
              "\n",
              "    .colab-df-convert:hover {\n",
              "      background-color: #E2EBFA;\n",
              "      box-shadow: 0px 1px 2px rgba(60, 64, 67, 0.3), 0px 1px 3px 1px rgba(60, 64, 67, 0.15);\n",
              "      fill: #174EA6;\n",
              "    }\n",
              "\n",
              "    [theme=dark] .colab-df-convert {\n",
              "      background-color: #3B4455;\n",
              "      fill: #D2E3FC;\n",
              "    }\n",
              "\n",
              "    [theme=dark] .colab-df-convert:hover {\n",
              "      background-color: #434B5C;\n",
              "      box-shadow: 0px 1px 3px 1px rgba(0, 0, 0, 0.15);\n",
              "      filter: drop-shadow(0px 1px 2px rgba(0, 0, 0, 0.3));\n",
              "      fill: #FFFFFF;\n",
              "    }\n",
              "  </style>\n",
              "\n",
              "      <script>\n",
              "        const buttonEl =\n",
              "          document.querySelector('#df-be42fe9e-68a2-477a-8938-2ffa2b75eaeb button.colab-df-convert');\n",
              "        buttonEl.style.display =\n",
              "          google.colab.kernel.accessAllowed ? 'block' : 'none';\n",
              "\n",
              "        async function convertToInteractive(key) {\n",
              "          const element = document.querySelector('#df-be42fe9e-68a2-477a-8938-2ffa2b75eaeb');\n",
              "          const dataTable =\n",
              "            await google.colab.kernel.invokeFunction('convertToInteractive',\n",
              "                                                     [key], {});\n",
              "          if (!dataTable) return;\n",
              "\n",
              "          const docLinkHtml = 'Like what you see? Visit the ' +\n",
              "            '<a target=\"_blank\" href=https://colab.research.google.com/notebooks/data_table.ipynb>data table notebook</a>'\n",
              "            + ' to learn more about interactive tables.';\n",
              "          element.innerHTML = '';\n",
              "          dataTable['output_type'] = 'display_data';\n",
              "          await google.colab.output.renderOutput(dataTable, element);\n",
              "          const docLink = document.createElement('div');\n",
              "          docLink.innerHTML = docLinkHtml;\n",
              "          element.appendChild(docLink);\n",
              "        }\n",
              "      </script>\n",
              "    </div>\n",
              "  </div>\n",
              "  "
            ],
            "text/plain": [
              "                                                             accuracy_tr  \\\n",
              "neurons           kernels       Conv_layer MaxPooling_layer                \n",
              "                                0          0                    0.864138   \n",
              "12, 32, 120       20, 10, 5     3          2                    0.777656   \n",
              "                  10, 5, 3      3          2                    0.774397   \n",
              "                  5, 3, 2       3          2                    0.758039   \n",
              "6, 12, 32, 80, 80 6, 5, 4, 3, 2 5          3                    0.729147   \n",
              "\n",
              "                                                             accuracy_val  \n",
              "neurons           kernels       Conv_layer MaxPooling_layer                \n",
              "                                0          0                     0.859964  \n",
              "12, 32, 120       20, 10, 5     3          2                     0.786173  \n",
              "                  10, 5, 3      3          2                     0.779555  \n",
              "                  5, 3, 2       3          2                     0.770082  \n",
              "6, 12, 32, 80, 80 6, 5, 4, 3, 2 5          3                     0.741245  "
            ]
          },
          "execution_count": null,
          "metadata": {},
          "output_type": "execute_result"
        }
      ],
      "source": [
        "result1.groupby(['neurons', 'kernels','Conv_layer', 'MaxPooling_layer']).mean(['accuracy_val', 'accuracy_tr']).sort_values(by='accuracy_val', ascending=False)"
      ]
    },
    {
      "cell_type": "markdown",
      "id": "533c6ce1",
      "metadata": {
        "id": "533c6ce1"
      },
      "source": [
        "**Вывод:**\n",
        "\n",
        "Результат тем лучше, чем меньше сверточных и пуллинг слоев."
      ]
    },
    {
      "cell_type": "markdown",
      "id": "2303a195",
      "metadata": {
        "id": "2303a195"
      },
      "source": [
        "#### Вариант 2. (сложный)\n",
        "\n",
        "- реализовать нейронную сеть или стек из сверток (Concatenate) на сifar10.\n",
        "\n",
        "- оценить рост точности при увеличении ширины сети (больше ядер), больше нитей.\n",
        "\n",
        "- оценить рост точности при увеличении глубины сети (больше слоев)"
      ]
    }
  ],
  "metadata": {
    "kernelspec": {
      "display_name": "Python 3 (ipykernel)",
      "language": "python",
      "name": "python3"
    },
    "language_info": {
      "codemirror_mode": {
        "name": "ipython",
        "version": 3
      },
      "file_extension": ".py",
      "mimetype": "text/x-python",
      "name": "python",
      "nbconvert_exporter": "python",
      "pygments_lexer": "ipython3",
      "version": "3.9.7"
    },
    "colab": {
      "name": "Lesson_4.ipynb",
      "provenance": []
    }
  },
  "nbformat": 4,
  "nbformat_minor": 5
}