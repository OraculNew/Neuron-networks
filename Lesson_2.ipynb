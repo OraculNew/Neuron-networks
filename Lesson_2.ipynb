{
  "cells": [
    {
      "cell_type": "markdown",
      "id": "5a0072e9",
      "metadata": {
        "id": "5a0072e9"
      },
      "source": [
        "# Практическое задание к уроку 2. Keras"
      ]
    },
    {
      "cell_type": "markdown",
      "id": "bb0e646a",
      "metadata": {
        "id": "bb0e646a"
      },
      "source": [
        "Используем набор примеров fashion-MNIST\n",
        "\n",
        "1.  Опишите - какой результата получен в нейросети в зависимости от:\n",
        "  -  числа нейронов в слое(для 2-хслойной сети), \n",
        "  - числа слоев (2, 3, 5, 10) при близких размерах сети (близкое число тренируемых парметров).\n",
        "  - фиксируйте для тренировочного и тестового набора метрики accuracy.\n",
        "\n",
        "\n",
        "2.  Проверьте работу разных оптимизаторов (SGD, Adam, RMSProp) для одной из моделей п.1.\n",
        "\n",
        "   Фиксируйте для тренировочного и тестового набора метрики accuracy.\n",
        "\n",
        "\n",
        "3. Сделайте вывод - что помогло вам улучшить качество классификации в нейросети на тестовом наборе? \n",
        "\n",
        "\n",
        "4. Для одного варианта сетей сформируйте матрицу ошибок по классам. Оцените качество модели по каждому классу отдельно (полнота , точность). Сделайте вывод."
      ]
    },
    {
      "cell_type": "code",
      "execution_count": 9,
      "id": "OhXEEYaNXQfk",
      "metadata": {
        "colab": {
          "base_uri": "https://localhost:8080/"
        },
        "id": "OhXEEYaNXQfk",
        "outputId": "8018edd3-9c64-430b-c3d4-06fca9094de5"
      },
      "outputs": [
        {
          "output_type": "stream",
          "name": "stdout",
          "text": [
            "Requirement already satisfied: mnist in /usr/local/lib/python3.7/dist-packages (0.2.2)\n",
            "Requirement already satisfied: numpy in /usr/local/lib/python3.7/dist-packages (from mnist) (1.21.5)\n"
          ]
        }
      ],
      "source": [
        "!pip install mnist"
      ]
    },
    {
      "cell_type": "code",
      "execution_count": 10,
      "id": "fBNMVq7aYKYg",
      "metadata": {
        "colab": {
          "base_uri": "https://localhost:8080/"
        },
        "id": "fBNMVq7aYKYg",
        "outputId": "7f1feb4f-0a59-4a93-afac-d8b7232fb96e"
      },
      "outputs": [
        {
          "output_type": "stream",
          "name": "stdout",
          "text": [
            "Requirement already satisfied: keras in /usr/local/lib/python3.7/dist-packages (2.8.0)\n"
          ]
        }
      ],
      "source": [
        "!pip install keras"
      ]
    },
    {
      "cell_type": "code",
      "execution_count": 14,
      "id": "571dd3dc",
      "metadata": {
        "id": "571dd3dc"
      },
      "outputs": [],
      "source": [
        "import numpy as np\n",
        "import mnist\n",
        "\n",
        "#import tf.kears as keras\n",
        "import keras\n",
        "from keras.datasets import mnist, boston_housing, fashion_mnist  # наборы для работы\n",
        "\n",
        "from keras.models import Sequential\n",
        "from keras.layers import Dense\n",
        "# from keras.utils import to_categorical\n",
        "from tensorflow.keras.utils import to_categorical\n",
        "from sklearn.metrics import roc_curve, auc, roc_auc_score, confusion_matrix, ConfusionMatrixDisplay\n",
        "\n",
        "# import tensorflow as tf\n",
        "\n",
        "import matplotlib.pyplot as plt"
      ]
    },
    {
      "cell_type": "code",
      "execution_count": 15,
      "id": "SNO84m9sn5d7",
      "metadata": {
        "id": "SNO84m9sn5d7"
      },
      "outputs": [],
      "source": [
        "fashion_mnist = keras.datasets.fashion_mnist\n",
        "\n",
        "(train_images, train_labels), (test_images, test_labels) = fashion_mnist.load_data()"
      ]
    },
    {
      "cell_type": "code",
      "execution_count": 20,
      "id": "b-nINyFPhSGN",
      "metadata": {
        "colab": {
          "base_uri": "https://localhost:8080/",
          "height": 265
        },
        "id": "b-nINyFPhSGN",
        "outputId": "9164472e-2239-4746-c23d-2c2d8ccb176c"
      },
      "outputs": [
        {
          "output_type": "display_data",
          "data": {
            "image/png": "[encoded data removed]",
            "text/plain": [
              "<Figure size 432x288 with 1 Axes>"
            ]
          },
          "metadata": {
            "needs_background": "light"
          }
        }
      ],
      "source": [
        "plt.imshow(train_images[100,:,:])\n",
        "plt.show()"
      ]
    },
    {
      "cell_type": "code",
      "execution_count": 21,
      "id": "AC4iSq-ksv9i",
      "metadata": {
        "colab": {
          "base_uri": "https://localhost:8080/"
        },
        "id": "AC4iSq-ksv9i",
        "outputId": "8e0d1f7b-156b-4273-8a3a-f105bf004fe1"
      },
      "outputs": [
        {
          "output_type": "stream",
          "name": "stdout",
          "text": [
            "(60000, 28, 28)\n",
            "(60000,)\n"
          ]
        }
      ],
      "source": [
        "print(train_images.shape) # (60000, 28, 28)\n",
        "print(train_labels.shape) # (60000,)"
      ]
    },
    {
      "cell_type": "code",
      "execution_count": 22,
      "id": "zxhqmJnhXPf9",
      "metadata": {
        "id": "zxhqmJnhXPf9"
      },
      "outputs": [],
      "source": [
        "train_images = (train_images / 255) - 0.5\n",
        "test_images = (test_images / 255) - 0.5\n",
        "\n",
        "train_images = train_images.reshape((-1, 784))\n",
        "test_images = test_images.reshape((-1, 784))"
      ]
    },
    {
      "cell_type": "code",
      "execution_count": 23,
      "id": "fa44a336",
      "metadata": {
        "colab": {
          "base_uri": "https://localhost:8080/"
        },
        "id": "fa44a336",
        "outputId": "68e33686-d2a8-438c-8e25-3a8174ca850b"
      },
      "outputs": [
        {
          "output_type": "stream",
          "name": "stdout",
          "text": [
            "Epoch 1/10\n",
            "1875/1875 [==============================] - 8s 4ms/step - loss: 0.5032 - accuracy: 0.8166 - auc: 0.9846\n",
            "Epoch 2/10\n",
            "1875/1875 [==============================] - 7s 4ms/step - loss: 0.3772 - accuracy: 0.8613 - auc: 0.9907\n",
            "Epoch 3/10\n",
            "1875/1875 [==============================] - 7s 4ms/step - loss: 0.3397 - accuracy: 0.8736 - auc: 0.9924\n",
            "Epoch 4/10\n",
            "1875/1875 [==============================] - 7s 4ms/step - loss: 0.3146 - accuracy: 0.8828 - auc: 0.9934\n",
            "Epoch 5/10\n",
            "1875/1875 [==============================] - 8s 4ms/step - loss: 0.2968 - accuracy: 0.8894 - auc: 0.9940\n",
            "Epoch 6/10\n",
            "1875/1875 [==============================] - 7s 4ms/step - loss: 0.2849 - accuracy: 0.8933 - auc: 0.9943\n",
            "Epoch 7/10\n",
            "1875/1875 [==============================] - 8s 4ms/step - loss: 0.2735 - accuracy: 0.9002 - auc: 0.9947\n",
            "Epoch 8/10\n",
            "1875/1875 [==============================] - 8s 4ms/step - loss: 0.2585 - accuracy: 0.9035 - auc: 0.9953\n",
            "Epoch 9/10\n",
            "1875/1875 [==============================] - 8s 4ms/step - loss: 0.2490 - accuracy: 0.9056 - auc: 0.9955\n",
            "Epoch 10/10\n",
            "1875/1875 [==============================] - 8s 4ms/step - loss: 0.2377 - accuracy: 0.9112 - auc: 0.9959\n"
          ]
        },
        {
          "output_type": "execute_result",
          "data": {
            "text/plain": [
              "<keras.callbacks.History at 0x7fb622f05690>"
            ]
          },
          "metadata": {},
          "execution_count": 23
        }
      ],
      "source": [
        "model = Sequential([\n",
        "  Dense(256, activation='relu', input_shape=(784,)), # входной слой + полносвязный слой из 256 нейронов с активацией ReLU\n",
        "  Dense(128, activation='relu'),\n",
        "  Dense(64, activation='relu'),\n",
        "  Dense(32, activation='relu'),\n",
        "  Dense(10, activation='softmax'),\n",
        "])\n",
        "\n",
        "model.compile(\n",
        "  optimizer='adam',\n",
        "  loss='categorical_crossentropy',\n",
        "  metrics=['accuracy','AUC'],\n",
        ")\n",
        "\n",
        "model.fit(\n",
        "  train_images,\n",
        "  to_categorical(train_labels),\n",
        "  epochs=10, # эпохи\n",
        "  batch_size=32,\n",
        ")"
      ]
    },
    {
      "cell_type": "code",
      "execution_count": 24,
      "id": "56687832",
      "metadata": {
        "colab": {
          "base_uri": "https://localhost:8080/"
        },
        "id": "56687832",
        "outputId": "154c0b80-d1b3-47ef-be6a-2ae8606af694"
      },
      "outputs": [
        {
          "output_type": "stream",
          "name": "stdout",
          "text": [
            "313/313 [==============================] - 51s 2ms/step - loss: 0.3357 - accuracy: 0.8844 - auc: 0.9912\n"
          ]
        }
      ],
      "source": [
        "model.evaluate(\n",
        "  test_images,\n",
        "  to_categorical(test_labels)\n",
        ")\n",
        "\n",
        "model.save_weights('model.h5')"
      ]
    },
    {
      "cell_type": "code",
      "execution_count": 25,
      "id": "ivYlHYxF-3W-",
      "metadata": {
        "colab": {
          "base_uri": "https://localhost:8080/"
        },
        "id": "ivYlHYxF-3W-",
        "outputId": "bf5652bf-9da4-4b10-9824-5a08885cff50"
      },
      "outputs": [
        {
          "output_type": "execute_result",
          "data": {
            "text/plain": [
              "array([9, 2, 1, ..., 8, 1, 5])"
            ]
          },
          "metadata": {},
          "execution_count": 25
        }
      ],
      "source": [
        "y_predi = model(test_images[:,:])\n",
        "np.argmax(y_predi, axis=1)"
      ]
    },
    {
      "cell_type": "code",
      "execution_count": 26,
      "id": "XZwQc4UR_W0K",
      "metadata": {
        "colab": {
          "base_uri": "https://localhost:8080/"
        },
        "id": "XZwQc4UR_W0K",
        "outputId": "925bacb3-9731-4e52-bc3f-92320270ad12"
      },
      "outputs": [
        {
          "output_type": "execute_result",
          "data": {
            "text/plain": [
              "array([  17,   21,   23, ..., 9972, 9977, 9979])"
            ]
          },
          "metadata": {},
          "execution_count": 26
        }
      ],
      "source": [
        "yy = np.argmax(y_predi, axis=1)\n",
        "np.where(test_labels != yy)[0]"
      ]
    },
    {
      "cell_type": "code",
      "execution_count": 27,
      "id": "83eb1c49",
      "metadata": {
        "colab": {
          "base_uri": "https://localhost:8080/"
        },
        "id": "83eb1c49",
        "outputId": "846d02a8-ff58-439f-a02d-bf7b3da7f9ee"
      },
      "outputs": [
        {
          "output_type": "stream",
          "name": "stdout",
          "text": [
            "[[897   2   8  23   3   1  60   0   6   0]\n",
            " [  6 965   2  21   4   0   1   0   1   0]\n",
            " [ 34   1 788  17 111   1  45   0   3   0]\n",
            " [ 30   4   6 908  34   0  15   0   3   0]\n",
            " [  2   0  62  34 850   0  46   0   6   0]\n",
            " [  0   0   0   1   0 918   0  62   1  18]\n",
            " [172   1  87  30  73   0 629   0   8   0]\n",
            " [  0   0   0   0   0   5   0 965   0  30]\n",
            " [  9   0   3   7   3   2   4   5 967   0]\n",
            " [  1   0   0   0   0   6   0  36   0 957]]\n"
          ]
        }
      ],
      "source": [
        "CM = confusion_matrix(test_labels,yy)\n",
        "print(CM)"
      ]
    },
    {
      "cell_type": "code",
      "execution_count": 30,
      "id": "YZuYnuMMATtP",
      "metadata": {
        "id": "YZuYnuMMATtP",
        "colab": {
          "base_uri": "https://localhost:8080/",
          "height": 279
        },
        "outputId": "f75bee14-2b6c-471b-dd2b-2f668a357e09"
      },
      "outputs": [
        {
          "output_type": "display_data",
          "data": {
            "image/png": "[encoded data removed]",
            "text/plain": [
              "<Figure size 432x288 with 2 Axes>"
            ]
          },
          "metadata": {
            "needs_background": "light"
          }
        }
      ],
      "source": [
        "# ConfusionMatrixDisplay.from_estimator(model.h5,y_predi)\n",
        "# plt.show()\n",
        "\n",
        "disp = ConfusionMatrixDisplay(confusion_matrix=CM, display_labels=np.arange(10))\n",
        "\n",
        "disp.plot( values_format ='.3g')\n",
        "plt.show()"
      ]
    },
    {
      "cell_type": "markdown",
      "id": "28f0e8c9",
      "metadata": {
        "id": "28f0e8c9"
      },
      "source": [
        "**Выводы:**\n",
        "\n",
        "1. Большая точность достигается в эксперементах со слоями и эпохами.\n",
        "\n",
        "2. Точность меняется от перезапуска модели из-за изменения случайных весов и локального минимума модели при обучении.\n",
        "\n",
        "3. Из документации:\n",
        "\n",
        "- при помощи tf.keras.callbacks расширяется поведение модели.\n",
        "\n",
        "- возможно определение своих функций потерь и метрики.\n",
        "\n",
        "- наличие возможности задавать веса и смещения."
      ]
    }
  ],
  "metadata": {
    "colab": {
      "collapsed_sections": [],
      "name": "Lesson_2.ipynb",
      "provenance": []
    },
    "kernelspec": {
      "display_name": "Python 3 (ipykernel)",
      "language": "python",
      "name": "python3"
    },
    "language_info": {
      "codemirror_mode": {
        "name": "ipython",
        "version": 3
      },
      "file_extension": ".py",
      "mimetype": "text/x-python",
      "name": "python",
      "nbconvert_exporter": "python",
      "pygments_lexer": "ipython3",
      "version": "3.9.7"
    }
  },
  "nbformat": 4,
  "nbformat_minor": 5
}